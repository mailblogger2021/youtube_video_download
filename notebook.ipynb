{
 "cells": [
  {
   "cell_type": "code",
   "execution_count": 1,
   "metadata": {},
   "outputs": [
    {
     "name": "stdout",
     "output_type": "stream",
     "text": [
      "[youtube] Extracting URL: https://www.youtube.com/shorts/r0wdx3HBxMk\n",
      "[youtube] r0wdx3HBxMk: Downloading webpage\n",
      "[youtube] r0wdx3HBxMk: Downloading ios player API JSON\n",
      "[youtube] r0wdx3HBxMk: Downloading mweb player API JSON\n",
      "[youtube] r0wdx3HBxMk: Downloading m3u8 information\n",
      "[info] r0wdx3HBxMk: Downloading 1 format(s): 616+251\n",
      "[info] Writing video metadata as JSON to: downloads\\1.Upsc Topper 🔥 Karthik Panigrahi 🌟 Rank - 63 ｜ Upsc Interview.info.json\n"
     ]
    },
    {
     "name": "stderr",
     "output_type": "stream",
     "text": [
      "ERROR: You have requested merging of multiple formats but ffmpeg is not installed. Aborting due to --abort-on-error\n"
     ]
    },
    {
     "name": "stdout",
     "output_type": "stream",
     "text": [
      "Error: ERROR: You have requested merging of multiple formats but ffmpeg is not installed. Aborting due to --abort-on-error\n"
     ]
    }
   ],
   "source": [
    "import yt_dlp\n",
    "import os\n",
    "import json\n",
    "\n",
    "def download_youtube_short(video_url, save_path=\"artifacts/\"):\n",
    "    # Ensure the save_path exists\n",
    "    if not os.path.exists(save_path):\n",
    "        os.makedirs(save_path)\n",
    "\n",
    "    ydl_opts = {\n",
    "        'outtmpl': f'{save_path}/1.%(title)s.%(ext)s',  # Video file save path\n",
    "        'format': 'bestvideo+bestaudio/best',        # Best video and audio\n",
    "        'merge_output_format': 'mp4',               # Output format\n",
    "        'writeinfojson': True,                      # Save metadata JSON\n",
    "    }\n",
    "\n",
    "    try:\n",
    "        with yt_dlp.YoutubeDL(ydl_opts) as ydl:\n",
    "            # Download video and metadata\n",
    "            info_dict = ydl.extract_info(video_url, download=True)\n",
    "\n",
    "            # Extract metadata\n",
    "            video_title = info_dict.get('title', 'unknown_title')\n",
    "            video_description = info_dict.get('description', 'No description available.')\n",
    "            video_tags = info_dict.get('tags', [])\n",
    "\n",
    "            # Save description and tags to text files\n",
    "            description_path = os.path.join(save_path, f\"{video_title}_description.txt\")\n",
    "            with open(description_path, \"w\", encoding=\"utf-8\") as desc_file:\n",
    "                desc_file.write(video_description)\n",
    "\n",
    "            tags_path = os.path.join(save_path, f\"{video_title}_tags.txt\")\n",
    "            with open(tags_path, \"w\", encoding=\"utf-8\") as tags_file:\n",
    "                tags_file.write(\", \".join(video_tags))\n",
    "\n",
    "            print(f\"Downloaded video: {video_title}\")\n",
    "            print(f\"Description saved to: {description_path}\")\n",
    "            print(f\"Tags saved to: {tags_path}\")\n",
    "    except Exception as e:\n",
    "        print(f\"Error: {e}\")\n",
    "\n",
    "# Example usage\n",
    "short_url = \"https://www.youtube.com/shorts/r0wdx3HBxMk\"\n",
    "download_youtube_short(short_url)"
   ]
  },
  {
   "cell_type": "code",
   "execution_count": null,
   "metadata": {},
   "outputs": [],
   "source": []
  }
 ],
 "metadata": {
  "kernelspec": {
   "display_name": ".venv",
   "language": "python",
   "name": "python3"
  },
  "language_info": {
   "codemirror_mode": {
    "name": "ipython",
    "version": 3
   },
   "file_extension": ".py",
   "mimetype": "text/x-python",
   "name": "python",
   "nbconvert_exporter": "python",
   "pygments_lexer": "ipython3",
   "version": "3.12.3"
  }
 },
 "nbformat": 4,
 "nbformat_minor": 2
}
